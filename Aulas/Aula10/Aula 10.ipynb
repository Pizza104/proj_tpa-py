{
  "cells": [
    {
      "cell_type": "markdown",
      "source": [
        "# Introdução á Árvore Binária"
      ],
      "metadata": {}
    },
    {
      "cell_type": "markdown",
      "source": [
        "> Árvores binárias são essênciais para organização de dados de forma alfabética ou numeral. Através de nós um valor é comparado ao nó inicial. Após verificar se o valor é maior ou menor que o nó ele será reposicionado na memória esqierda (menor) ou a direita (maior) que o nó inicial. Assim possibilita a organização de dados dentro de uma lista como o método .sort(). Após isso ele se torna um nó podendo utilizar o método dentro dele mesmo, chamado de recursividade."
      ],
      "metadata": {}
    },
    {
      "cell_type": "code",
      "source": [
        "class No:\n",
        "    def __init__(self, valor):\n",
        "        self.esquerda = None\n",
        "        self.direita = None\n",
        "        self.valor = valor"
      ],
      "outputs": [],
      "execution_count": 3,
      "metadata": {}
    },
    {
      "cell_type": "markdown",
      "source": [
        "# Inserindo o método inserir"
      ],
      "metadata": {}
    },
    {
      "cell_type": "code",
      "source": [
        "def inserir(raiz,chave):\n",
        "    if raiz is None:\n",
        "        return No(chave)\n",
        "    else:\n",
        "        if chave < raiz.valor:\n",
        "            raiz.esquerda = inserir(raiz.esquerda, chave)\n",
        "        else:\n",
        "            raiz.direita = inserir(raiz.direita, chave)\n",
        "    return raiz"
      ],
      "outputs": [],
      "execution_count": 4,
      "metadata": {}
    },
    {
      "cell_type": "markdown",
      "source": [
        "# Método de ordenação"
      ],
      "metadata": {}
    },
    {
      "cell_type": "code",
      "source": [
        "def ordenar(raiz):\n",
        "    if raiz:\n",
        "        ordenar(raiz.esquerda)\n",
        "        print(raiz.valor, end=\" \")\n",
        "        ordenar(raiz.direita)"
      ],
      "outputs": [],
      "execution_count": 5,
      "metadata": {}
    },
    {
      "cell_type": "markdown",
      "source": [
        "# Método principal"
      ],
      "metadata": {}
    },
    {
      "cell_type": "code",
      "source": [
        "if __name__ == \"__main__\":\n",
        "    raiz = None\n",
        "    valores = [10,7,8,2,1,0,9]\n",
        "\n",
        "    for x in valores:\n",
        "        raiz = inserir(raiz,x)\n",
        "\n",
        "    print(\"Em orderm:\", end=\" \")\n",
        "    ordenar(raiz)\n",
        "    print()"
      ],
      "outputs": [
        {
          "output_type": "stream",
          "name": "stdout",
          "text": "Em orderm: 0 1 2 7 8 9 10 \n"
        }
      ],
      "execution_count": 6,
      "metadata": {}
    },
    {
      "cell_type": "markdown",
      "source": [
        "# Inserindo valores aleatórios"
      ],
      "metadata": {}
    },
    {
      "cell_type": "code",
      "source": [
        "import random\n",
        "aleatorio = random.randint(1,10)\n",
        "print(aleatorio)"
      ],
      "outputs": [
        {
          "output_type": "stream",
          "name": "stdout",
          "text": "1\n"
        }
      ],
      "execution_count": 7,
      "metadata": {}
    },
    {
      "cell_type": "code",
      "source": [
        "import random\n",
        "numeros = random.randint(0,100)\n",
        "for x in range(10):\n",
        "    x = numeros\n",
        "    numeros = random.randint(0,100)\n",
        "    print(numeros)"
      ],
      "outputs": [
        {
          "output_type": "stream",
          "name": "stdout",
          "text": "75\n41\n7\n96\n47\n68\n63\n67\n57\n46\n"
        }
      ],
      "execution_count": 8,
      "metadata": {}
    },
    {
      "cell_type": "markdown",
      "source": [
        "# Exercício 1"
      ],
      "metadata": {}
    },
    {
      "cell_type": "markdown",
      "source": [
        "> Crie um método que insira 10 valores aleatórios de 0 a 100. Após isso organize-os e mostre-os"
      ],
      "metadata": {}
    },
    {
      "cell_type": "code",
      "source": [
        "import random as y\n",
        "if __name__ == \"__main__\":\n",
        "    raiz = None\n",
        "    lista = []\n",
        "\n",
        "    for x in range(10):\n",
        "        lista.append(y.randint(0,100))\n",
        "\n",
        "    for x in lista:\n",
        "        raiz = inserir(raiz, x)\n",
        "\n",
        "    print(\"Em ordem: \", end=\" \")\n",
        "    ordenar(raiz)"
      ],
      "outputs": [
        {
          "output_type": "stream",
          "name": "stdout",
          "text": "Em ordem:  3 7 9 12 31 36 44 58 61 100 "
        }
      ],
      "execution_count": 9,
      "metadata": {}
    },
    {
      "cell_type": "markdown",
      "source": [
        "# Exercício 2"
      ],
      "metadata": {}
    },
    {
      "cell_type": "markdown",
      "source": [
        "> Crie um método que insira 5 valores aleatórios de 0 a 10. Após isso organize-os de forma decrescente e mostre-os."
      ],
      "metadata": {}
    },
    {
      "cell_type": "code",
      "source": [
        "def ordenar2(raiz):\n",
        "    if raiz:\n",
        "        ordenar2(raiz.direita)\n",
        "        print(raiz.valor, end=\" \")\n",
        "        ordenar2(raiz.esquerda)"
      ],
      "outputs": [],
      "execution_count": 14,
      "metadata": {}
    },
    {
      "cell_type": "code",
      "source": [
        "import random as y\n",
        "if __name__ == \"__main__\":\n",
        "    raiz = None\n",
        "    lista = []\n",
        "\n",
        "    for x in range(5):\n",
        "        lista.append(y.randint(0,100))\n",
        "\n",
        "    for x in lista:\n",
        "        raiz = inserir(raiz, x)\n",
        "\n",
        "    print(\"Em ordem: \", end=\" \")\n",
        "    ordenar2(raiz)"
      ],
      "outputs": [
        {
          "output_type": "stream",
          "name": "stdout",
          "text": "Em ordem:  65 54 35 22 9 "
        }
      ],
      "execution_count": 19,
      "metadata": {}
    }
  ],
  "metadata": {
    "kernelspec": {
      "name": "python",
      "language": "python",
      "display_name": "Pyolite (preview)"
    },
    "language_info": {
      "codemirror_mode": {
        "name": "python",
        "version": 3
      },
      "file_extension": ".py",
      "mimetype": "text/x-python",
      "name": "python",
      "nbconvert_exporter": "python",
      "pygments_lexer": "ipython3",
      "version": "3.8"
    },
    "kernel_info": {
      "name": "python"
    },
    "nteract": {
      "version": "nteract-front-end@1.0.0"
    }
  },
  "nbformat": 4,
  "nbformat_minor": 2
}